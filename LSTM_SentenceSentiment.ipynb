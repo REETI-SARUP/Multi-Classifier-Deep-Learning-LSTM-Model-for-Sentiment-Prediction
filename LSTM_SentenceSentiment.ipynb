{
 "cells": [
  {
   "cell_type": "code",
   "execution_count": 9,
   "metadata": {},
   "outputs": [],
   "source": [
    "import numpy as np \n",
    "import pandas as pd\n",
    "from keras.layers import Dense, Embedding, LSTM, SpatialDropout1D\n",
    "from keras.models import Sequential\n",
    "from sklearn.feature_extraction.text import CountVectorizer\n",
    "from keras.preprocessing.text import Tokenizer\n",
    "from keras.preprocessing.sequence import pad_sequences\n",
    "from sklearn.model_selection import train_test_split\n",
    "from keras.utils.np_utils import to_categorical\n",
    "from keras.callbacks import EarlyStopping\n",
    "import pickle"
   ]
  },
  {
   "cell_type": "code",
   "execution_count": 10,
   "metadata": {},
   "outputs": [],
   "source": [
    "data = pd.read_excel('./annotations_binary.xlsx')"
   ]
  },
  {
   "cell_type": "code",
   "execution_count": 11,
   "metadata": {},
   "outputs": [],
   "source": [
    "data.Sentence = data.Sentence.astype(str)"
   ]
  },
  {
   "cell_type": "code",
   "execution_count": 13,
   "metadata": {},
   "outputs": [
    {
     "data": {
      "text/plain": [
       "positive    193919\n",
       "neutral     165327\n",
       "negative    136238\n",
       "Name: Sentiment, dtype: int64"
      ]
     },
     "execution_count": 13,
     "metadata": {},
     "output_type": "execute_result"
    }
   ],
   "source": [
    "data.Sentiment.value_counts()"
   ]
  },
  {
   "cell_type": "code",
   "execution_count": 14,
   "metadata": {},
   "outputs": [],
   "source": [
    "#taking balanced classes\n",
    "num_of_categories = 136238\n",
    "shuffled = data.reindex(np.random.permutation(data.index))\n",
    "positive = shuffled[shuffled['Sentiment'] == 'positive'][:num_of_categories]\n",
    "neutral = shuffled[shuffled['Sentiment'] == 'neutral'][:num_of_categories]\n",
    "negative = shuffled[shuffled['Sentiment'] == 'negative'][:num_of_categories]\n",
    "concated = pd.concat([positive,neutral,negative], ignore_index=True)\n",
    "\n",
    "#Shuffle the dataset\n",
    "concated = concated.reindex(np.random.permutation(concated.index))\n",
    "concated['LABEL'] = 0"
   ]
  },
  {
   "cell_type": "code",
   "execution_count": 15,
   "metadata": {
    "scrolled": true
   },
   "outputs": [
    {
     "name": "stdout",
     "output_type": "stream",
     "text": [
      "227150    1\n",
      "265641    1\n",
      "59483     0\n",
      "281767    2\n",
      "59772     0\n",
      "248362    1\n",
      "8003      0\n",
      "399892    2\n",
      "126507    0\n",
      "64631     0\n",
      "136951    1\n",
      "28534     0\n",
      "76328     0\n",
      "236275    1\n",
      "39573     0\n",
      "323491    2\n",
      "294752    2\n",
      "173857    1\n",
      "322342    2\n",
      "385514    2\n",
      "39577     0\n",
      "306486    2\n",
      "22255     0\n",
      "171214    1\n",
      "104143    0\n",
      "168243    1\n",
      "118595    0\n",
      "254888    1\n",
      "387684    2\n",
      "223141    1\n",
      "Name: LABEL, dtype: int64\n",
      "[[0. 1. 0.]\n",
      " [0. 1. 0.]\n",
      " [1. 0. 0.]\n",
      " [0. 0. 1.]\n",
      " [1. 0. 0.]\n",
      " [0. 1. 0.]\n",
      " [1. 0. 0.]\n",
      " [0. 0. 1.]\n",
      " [1. 0. 0.]\n",
      " [1. 0. 0.]\n",
      " [0. 1. 0.]\n",
      " [1. 0. 0.]\n",
      " [1. 0. 0.]\n",
      " [0. 1. 0.]\n",
      " [1. 0. 0.]\n",
      " [0. 0. 1.]\n",
      " [0. 0. 1.]\n",
      " [0. 1. 0.]\n",
      " [0. 0. 1.]\n",
      " [0. 0. 1.]\n",
      " [1. 0. 0.]\n",
      " [0. 0. 1.]\n",
      " [1. 0. 0.]\n",
      " [0. 1. 0.]\n",
      " [1. 0. 0.]\n",
      " [0. 1. 0.]\n",
      " [1. 0. 0.]\n",
      " [0. 1. 0.]\n",
      " [0. 0. 1.]\n",
      " [0. 1. 0.]]\n"
     ]
    },
    {
     "data": {
      "text/plain": [
       "'\\n [1. 0. 0.] positive\\n [0. 1. 0.] neutral\\n [0. 0. 1.] negative\\n '"
      ]
     },
     "execution_count": 15,
     "metadata": {},
     "output_type": "execute_result"
    }
   ],
   "source": [
    "#One-hot encode the labels\n",
    "concated.loc[concated['Sentiment'] == 'positive', 'LABEL'] = 0\n",
    "concated.loc[concated['Sentiment'] == 'neutral', 'LABEL'] = 1\n",
    "concated.loc[concated['Sentiment'] == 'negative', 'LABEL'] = 2\n",
    "print(concated['LABEL'][:30])\n",
    "labels = to_categorical(concated['LABEL'], num_classes=3)\n",
    "print(labels[:30])\n",
    "if 'Sentiment' in concated.keys():\n",
    "    concated.drop(['Sentiment'], axis=1)\n",
    "'''\n",
    " [1. 0. 0.] positive\n",
    " [0. 1. 0.] neutral\n",
    " [0. 0. 1.] negative\n",
    " '''"
   ]
  },
  {
   "cell_type": "code",
   "execution_count": 16,
   "metadata": {},
   "outputs": [
    {
     "name": "stdout",
     "output_type": "stream",
     "text": [
      "Found 143014 unique tokens.\n"
     ]
    }
   ],
   "source": [
    "n_most_common_words = 10000\n",
    "max_len = 200\n",
    "tokenizer = Tokenizer(num_words=n_most_common_words, filters='!\"#$%&()*+,-./:;<=>?@[\\]^_`{|}~', lower=True)\n",
    "tokenizer.fit_on_texts(concated['Sentence'].values)\n",
    "sequences = tokenizer.texts_to_sequences(concated['Sentence'].values)\n",
    "word_index = tokenizer.word_index\n",
    "\n",
    "# saving\n",
    "with open('tokenizer.pickle', 'wb') as handle:\n",
    "    pickle.dump(tokenizer, handle, protocol=pickle.HIGHEST_PROTOCOL)\n",
    "    \n",
    "print('Found %s unique tokens.' % len(word_index))\n",
    "\n",
    "X = pad_sequences(sequences, maxlen=max_len)"
   ]
  },
  {
   "cell_type": "code",
   "execution_count": 17,
   "metadata": {},
   "outputs": [],
   "source": [
    "X_train, X_test, y_train, y_test = train_test_split(X , labels, test_size=0.3, random_state=42)"
   ]
  },
  {
   "cell_type": "code",
   "execution_count": 18,
   "metadata": {},
   "outputs": [
    {
     "data": {
      "text/plain": [
       "array([[0., 1., 0.],\n",
       "       [0., 1., 0.]], dtype=float32)"
      ]
     },
     "execution_count": 18,
     "metadata": {},
     "output_type": "execute_result"
    }
   ],
   "source": [
    "epochs = 10\n",
    "emb_dim = 128\n",
    "batch_size = 256\n",
    "labels[:2]"
   ]
  },
  {
   "cell_type": "code",
   "execution_count": 13,
   "metadata": {},
   "outputs": [
    {
     "name": "stdout",
     "output_type": "stream",
     "text": [
      "((286099, 200), (286099, 3), (122615, 200), (122615, 3))\n",
      "_________________________________________________________________\n",
      "Layer (type)                 Output Shape              Param #   \n",
      "=================================================================\n",
      "embedding_1 (Embedding)      (None, 200, 128)          1280000   \n",
      "_________________________________________________________________\n",
      "spatial_dropout1d_1 (Spatial (None, 200, 128)          0         \n",
      "_________________________________________________________________\n",
      "lstm_1 (LSTM)                (None, 64)                49408     \n",
      "_________________________________________________________________\n",
      "dense_1 (Dense)              (None, 3)                 195       \n",
      "=================================================================\n",
      "Total params: 1,329,603\n",
      "Trainable params: 1,329,603\n",
      "Non-trainable params: 0\n",
      "_________________________________________________________________\n",
      "None\n",
      "Train on 228879 samples, validate on 57220 samples\n",
      "Epoch 1/10\n",
      "228879/228879 [==============================] - 992s 4ms/step - loss: 0.7839 - acc: 0.6379 - val_loss: 0.4040 - val_acc: 0.8605\n",
      "Epoch 2/10\n",
      "228879/228879 [==============================] - 970s 4ms/step - loss: 0.4056 - acc: 0.8637 - val_loss: 0.3080 - val_acc: 0.9059\n",
      "Epoch 3/10\n",
      "228879/228879 [==============================] - 1057s 5ms/step - loss: 0.3406 - acc: 0.8917 - val_loss: 0.2910 - val_acc: 0.9124\n",
      "Epoch 4/10\n",
      "228879/228879 [==============================] - 965s 4ms/step - loss: 0.3193 - acc: 0.8996 - val_loss: 0.2857 - val_acc: 0.9148\n",
      "Epoch 5/10\n",
      "228879/228879 [==============================] - 966s 4ms/step - loss: 0.3051 - acc: 0.9053 - val_loss: 0.2786 - val_acc: 0.9182\n",
      "Epoch 6/10\n",
      "228879/228879 [==============================] - 967s 4ms/step - loss: 0.2944 - acc: 0.9095 - val_loss: 0.2758 - val_acc: 0.9195\n",
      "Epoch 7/10\n",
      "228879/228879 [==============================] - 967s 4ms/step - loss: 0.2920 - acc: 0.9099 - val_loss: 0.2718 - val_acc: 0.9214\n",
      "Epoch 8/10\n",
      "228879/228879 [==============================] - 967s 4ms/step - loss: 0.2847 - acc: 0.9131 - val_loss: 0.2648 - val_acc: 0.9235\n",
      "Epoch 9/10\n",
      "228879/228879 [==============================] - 967s 4ms/step - loss: 0.2784 - acc: 0.9146 - val_loss: 0.2602 - val_acc: 0.9260\n",
      "Epoch 10/10\n",
      "228879/228879 [==============================] - 968s 4ms/step - loss: 0.2741 - acc: 0.9163 - val_loss: 0.2560 - val_acc: 0.9267\n"
     ]
    }
   ],
   "source": [
    "print((X_train.shape, y_train.shape, X_test.shape, y_test.shape))\n",
    "\n",
    "model = Sequential()\n",
    "model.add(Embedding(n_most_common_words, emb_dim, input_length=X.shape[1]))\n",
    "model.add(SpatialDropout1D(0.7))\n",
    "model.add(LSTM(64, dropout=0.7, recurrent_dropout=0.7))\n",
    "model.add(Dense(3, activation='softmax'))\n",
    "model.compile(optimizer='adam', loss='categorical_crossentropy', metrics=['acc'])\n",
    "print(model.summary())\n",
    "history = model.fit(X_train, y_train, epochs=epochs, batch_size=batch_size,validation_split=0.2,callbacks=[EarlyStopping(monitor='val_loss',patience=7, min_delta=0.0001)])\n",
    "model.save('lstm_model.h5')"
   ]
  },
  {
   "cell_type": "code",
   "execution_count": 14,
   "metadata": {},
   "outputs": [
    {
     "name": "stdout",
     "output_type": "stream",
     "text": [
      "122615/122615 [==============================] - 147s 1ms/step\n",
      "Test set\n",
      "  Loss: 0.261\n",
      "  Accuracy: 0.926\n"
     ]
    }
   ],
   "source": [
    "accr = model.evaluate(X_test,y_test)\n",
    "print('Test set\\n  Loss: {:0.3f}\\n  Accuracy: {:0.3f}'.format(accr[0],accr[1]))"
   ]
  },
  {
   "cell_type": "code",
   "execution_count": 17,
   "metadata": {},
   "outputs": [
    {
     "data": {
      "image/png": "[encoded data removed]",
      "text/plain": [
       "<Figure size 432x288 with 1 Axes>"
      ]
     },
     "metadata": {
      "needs_background": "light"
     },
     "output_type": "display_data"
    },
    {
     "data": {
      "image/png": "[encoded data removed]",
      "text/plain": [
       "<Figure size 432x288 with 1 Axes>"
      ]
     },
     "metadata": {
      "needs_background": "light"
     },
     "output_type": "display_data"
    }
   ],
   "source": [
    "import matplotlib.pyplot as plt\n",
    "\n",
    "acc = history.history['acc']\n",
    "val_acc = history.history['val_acc']\n",
    "loss = history.history['loss']\n",
    "val_loss = history.history['val_loss']\n",
    "\n",
    "epochs = range(1, len(acc) + 1)\n",
    "\n",
    "plt.plot(epochs, acc, 'bo', label='Training acc')\n",
    "plt.plot(epochs, val_acc, 'b', label='Validation acc')\n",
    "plt.title('Training and validation accuracy')\n",
    "plt.legend()\n",
    "\n",
    "plt.figure()\n",
    "\n",
    "plt.plot(epochs, loss, 'bo', label='Training loss')\n",
    "plt.plot(epochs, val_loss, 'b', label='Validation loss')\n",
    "plt.title('Training and validation loss')\n",
    "plt.legend()\n",
    "\n",
    "plt.show()"
   ]
  },
  {
   "cell_type": "code",
   "execution_count": 18,
   "metadata": {},
   "outputs": [
    {
     "name": "stdout",
     "output_type": "stream",
     "text": [
      "Sentence: \n",
      " ['He praised Modi, and even expressed the wish that he should get a second term.']\n",
      "Predicted Class:  positive\n",
      "\n",
      "Labels in decreasing order of most suitable category: \n",
      "Positive:  99.5484709739685 %\n",
      "Neutral:  0.28680115938186646 %\n",
      "Negative:  0.1647236873395741 %\n",
      "\n",
      "\n",
      "Sentence: \n",
      " ['In a veiled attack on Prime Minister Narendra Modi, the Shiv Sena on Monday said no political “wave” had ever solved the Kashmir issue or stopped the killing of soldiers.']\n",
      "Predicted Class:  negative\n",
      "\n",
      "Labels in decreasing order of most suitable category: \n",
      "Negative:  99.82505440711975 %\n",
      "Positive:  0.0725266057997942 %\n",
      "Neutral:  0.10242180433124304 %\n"
     ]
    }
   ],
   "source": [
    "#Sample sentences taken from online news articles\n",
    "\n",
    "txt = [\"He praised Modi, and even expressed the wish that he should get a second term.\"] \n",
    "txt2 = [\"In a veiled attack on Prime Minister Narendra Modi, the Shiv Sena on Monday said no political “wave” had ever solved the Kashmir issue or stopped the killing of soldiers.\"]\n",
    "seq = tokenizer.texts_to_sequences(txt)\n",
    "seq2 = tokenizer.texts_to_sequences(txt2)\n",
    "padded = pad_sequences(seq, maxlen=max_len)\n",
    "padded2 = pad_sequences(seq2, maxlen=max_len)\n",
    "pred = model.predict(padded)\n",
    "pred2 = model.predict(padded2)\n",
    "labels = ['positive', 'neutral', 'negative']\n",
    "print(\"Sentence: \\n\", txt)\n",
    "print(\"Predicted Class: \", labels[np.argmax(pred)])\n",
    "print()\n",
    "print(\"Labels in decreasing order of most suitable category: \")\n",
    "print(\"Positive: \", pred[0][0]*100,\"%\")\n",
    "print(\"Neutral: \", pred[0][1]*100,\"%\")\n",
    "print(\"Negative: \", pred[0][2]*100,\"%\")\n",
    "print()\n",
    "print()\n",
    "\n",
    "print(\"Sentence: \\n\", txt2)\n",
    "print(\"Predicted Class: \", labels[np.argmax(pred2)])\n",
    "print()\n",
    "print(\"Labels in decreasing order of most suitable category: \")\n",
    "print(\"Negative: \", pred2[0][2]*100,\"%\")\n",
    "print(\"Positive: \", pred2[0][0]*100,\"%\")\n",
    "print(\"Neutral: \", pred2[0][1]*100,\"%\")"
   ]
  },
  {
   "cell_type": "code",
   "execution_count": null,
   "metadata": {},
   "outputs": [],
   "source": []
  }
 ],
 "metadata": {
  "kernelspec": {
   "display_name": "Python 3",
   "language": "python",
   "name": "python3"
  },
  "language_info": {
   "codemirror_mode": {
    "name": "ipython",
    "version": 3
   },
   "file_extension": ".py",
   "mimetype": "text/x-python",
   "name": "python",
   "nbconvert_exporter": "python",
   "pygments_lexer": "ipython3",
   "version": "3.6.7"
  }
 },
 "nbformat": 4,
 "nbformat_minor": 2
}
